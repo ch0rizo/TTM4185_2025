{
 "cells": [
  {
   "cell_type": "markdown",
   "metadata": {},
   "source": [
    "*Sjekk først at du har installert pakkene riktig ved å kjøre kodeblokken under:*"
   ]
  },
  {
   "cell_type": "code",
   "execution_count": null,
   "metadata": {},
   "outputs": [],
   "source": [
    "from graph_utils.graph import Graph, nx, plt\n",
    "from graph_utils.buss_graph import BussGraph\n",
    "from graph_utils.tree_graph import TreeGraph\n",
    "from graph_utils.ring_graph import RingGraph\n",
    "from graph_utils.star_graph import StarGraph\n",
    "from graph_utils.grid_graph import GridGraph\n",
    "from graph_utils.mesh_graph import MeshGraph\n",
    "from graph_utils.constructed_graph import ConstructedGraph\n",
    "from graph_utils.watts_strogatz import WattsStrogatz\n",
    "from graph_utils.barabasi_albert import BarabasiAlbert\n",
    "from graph_utils.real_network_graph import RealNetworkGraph\n",
    "from graph_utils.broomstick_graph import BroomstickGraph\n",
    "from graph_utils.weighted_graph import WeightedGraph\n",
    "from graph_utils.petersen_graph import PetersenGraph\n",
    "from graph_utils.get_network import get_network\n",
    "from graph_utils.autocar import AutoCAR\n",
    "import matplotlib\n",
    "import numpy as np\n",
    "import random as r"
   ]
  },
  {
   "cell_type": "markdown",
   "metadata": {},
   "source": [
    "*Gå nøye gjennom Introduksjonsnotebooken før du gjør øvingen. Alle verktøy du vil trenge presenteres der.*"
   ]
  },
  {
   "cell_type": "code",
   "execution_count": null,
   "metadata": {},
   "outputs": [],
   "source": [
    "student_seed = 10000 #Skriv inn kandidatnummeret ditt her, 10XXX "
   ]
  },
  {
   "cell_type": "markdown",
   "metadata": {},
   "source": [
    "# Introduksjon\n",
    "I denne øvingen skal vi lære om ulike måter å måle viktigheten, eller sentraliteten, til en node i et nettverk. Vi skal også se på ulike graftyper, lære enkel analyse og til slutt se på tilfeldige og målrettede feil i et nettverk.\n",
    "\n",
    "Følgende temaer er forventet at du skal kunne etter denne øvingen:\n",
    "* Sentraliteter\n",
    "* Mål på sammenkobling av nettverk\n",
    "    * Noder i største partisjon\n",
    "* Angrepsmål i et nettverk\n",
    "    * Viktigheten av en node\n",
    "    * Angrepsstrategier i nettverk\n",
    "* Robusthet/utholdenhet\n",
    "    * Redundans\n",
    "* Kostnad ved redundans/trade-offs og effekten av dette\n",
    "\n",
    "For å gjennomføre denne øvingen forventes det at man har gjennomført introduksjonen, og kan bruke verktøyene som ble introdusert der til mer krevende oppgaver. For oppgavene nedenfor forventes det at studenten klarer å svare kort og konkret."
   ]
  },
  {
   "cell_type": "markdown",
   "metadata": {},
   "source": [
    "# Del 1: Grafstrukturer og sentraliteter\n",
    "I denne delen skal vi introdusere mål på viktigheten for en node i et nettverk. Her skal vi lære om tre forskjellige standariserte mål: \n",
    "* degree centrality\n",
    "* betweenness centrality\n",
    "* closeness centrality. \n",
    "\n",
    "Vi skal også ta en nærmere titt på ulike graftyper og analysere deres fordeler og ulemper."
   ]
  },
  {
   "cell_type": "markdown",
   "metadata": {},
   "source": [
    "## Oppgave 1.1\n",
    "I denne delen skal vi bli kjent med hvordan man plotter grafer. \n",
    "\n",
    "### Oppgave 1.1.1\n",
    "Enkle grafstrukturer som er mye brukt er mesh, star, ring, tree og bus. Ved hjelp av metodene introdusert i introduksjonen, konstruer og print en enkel versjon av to av disse grafene (4-8 noder).\n",
    "\n",
    "<em> Her forventer vi å se to graftyper konstruert og printet </em>"
   ]
  },
  {
   "cell_type": "code",
   "execution_count": null,
   "metadata": {},
   "outputs": [],
   "source": [
    "#Kode her\n"
   ]
  },
  {
   "cell_type": "code",
   "execution_count": null,
   "metadata": {},
   "outputs": [],
   "source": [
    "#Kode her\n"
   ]
  },
  {
   "cell_type": "markdown",
   "metadata": {},
   "source": [
    "### Oppgave 1.1.2\n",
    "\n",
    "Lag en **sammenhengende** graf ved å først opprette et objekt av klassen <code> Graph </code>. Legg deretter til 4-8 noder ved å bruke metoden <code>add_node()</code> eller <code>add_nodes_from()</code>. Legg så til kanter mellom de nodene du ønsker ved å bruke <code>add_edge()</code> eller <code>add_edges_from()</code>. Bruk til slutt metoden <code>draw()</code> for å tegne grafen. Grafen skal ha mellom 4 og 8 noder."
   ]
  },
  {
   "cell_type": "code",
   "execution_count": null,
   "metadata": {},
   "outputs": [],
   "source": [
    "#Kode her\n"
   ]
  },
  {
   "cell_type": "markdown",
   "metadata": {},
   "source": [
    "Lag en **broomstick** graf med ditt student seed. "
   ]
  },
  {
   "cell_type": "code",
   "execution_count": null,
   "metadata": {},
   "outputs": [],
   "source": [
    "#Kode her \n"
   ]
  },
  {
   "cell_type": "markdown",
   "metadata": {},
   "source": [
    "## Oppgave 1.2\n",
    "Forklar begrepene closeness centrality, betweenness centrality og degree centrality. Vil en node som har høy degree centrality også ha høy closeness centrality? Forklar hvorfor/hvorfor ikke. \n",
    "\n",
    "<em> Her forventer vi å se at man har forstått hva de ulike centralitiene måler og forskjeller mellom dem. </em>"
   ]
  },
  {
   "cell_type": "raw",
   "metadata": {},
   "source": [
    "Skriv svaret her:\n"
   ]
  },
  {
   "cell_type": "markdown",
   "metadata": {},
   "source": [
    "## Oppgave 1.3\n",
    "For hver av grafene fra oppgave 1.1.1 og 1.1.2, finn noden med høyest **betweenness centrality** for hånd. Vis utregning og forklar viktigheten til en node med høy betweenness centrality.\n",
    "\n",
    "<em> Her forventer vi å se at man har forstått seg på hva begrepet betweenness centrality handler om, og funnet den viktigste noden. Vi forventer også å se utregning og at studenten ikke har funnet svaret med å bruke en metode og en kort kommentar på hvorfor denne noden er viktig.</em>"
   ]
  },
  {
   "cell_type": "raw",
   "metadata": {},
   "source": [
    "Skriv svaret her:\n"
   ]
  },
  {
   "cell_type": "raw",
   "metadata": {},
   "source": [
    "Skriv svaret her:\n"
   ]
  },
  {
   "cell_type": "raw",
   "metadata": {},
   "source": [
    "Skriv svaret her:\n"
   ]
  },
  {
   "cell_type": "raw",
   "metadata": {},
   "source": [
    "Skriv svaret her:\n"
   ]
  },
  {
   "cell_type": "markdown",
   "metadata": {},
   "source": [
    "## Oppgave 1.4\n",
    "For hver graf, finn noden med høyest **closeness centrality** for hånd. Vis utregning og forklar viktigheten til en node med høy closeness centrality.\n",
    "\n",
    "<em> Her forventer vi å se at man har forstått seg på hva begrepet closeness centrality handler om, og funnet den viktigste noden. Vi forventer også å se utregning og at studenten ikke har funnet svaret med å bruke en metode og en kort kommentar på hvorfor denne noden er viktig.</em>"
   ]
  },
  {
   "cell_type": "raw",
   "metadata": {},
   "source": [
    "Skriv svaret her:\n"
   ]
  },
  {
   "cell_type": "raw",
   "metadata": {},
   "source": [
    "Skriv svaret her:\n"
   ]
  },
  {
   "cell_type": "raw",
   "metadata": {},
   "source": [
    "Skriv svaret her:\n"
   ]
  },
  {
   "cell_type": "raw",
   "metadata": {},
   "source": [
    "Skriv svaret her:\n"
   ]
  },
  {
   "cell_type": "markdown",
   "metadata": {},
   "source": [
    "## Oppgave 1.5\n",
    "For hver graf, finn noden med høyest **degree centrality** for hånd. Vis utregning og forklar viktigheten til en node med høy degree centrality.\n",
    "\n",
    "<em> Her forventer vi å se at man har forstått seg på hva begrepet degree centrality handler om, og funnet den viktigste noden. Vi forventer også å se utregning og at studenten ikke har funnet svaret med å bruke en metode og en kort kommentar på hvorfor denne noden er viktig.</em>"
   ]
  },
  {
   "cell_type": "raw",
   "metadata": {},
   "source": [
    "Skriv svaret her:\n"
   ]
  },
  {
   "cell_type": "raw",
   "metadata": {},
   "source": [
    "Skriv svaret her:\n"
   ]
  },
  {
   "cell_type": "raw",
   "metadata": {},
   "source": [
    "Skriv svaret her:\n"
   ]
  },
  {
   "cell_type": "raw",
   "metadata": {},
   "source": [
    "Skriv svaret her:\n"
   ]
  },
  {
   "cell_type": "markdown",
   "metadata": {},
   "source": [
    "## Oppgave 1.6\n",
    "Degree distribution kan vises med et histogram. Hva er degree distribution og hvorfor er det logisk å se på det med et histogram?"
   ]
  },
  {
   "cell_type": "raw",
   "metadata": {},
   "source": [
    "Skriv svaret her:\n"
   ]
  },
  {
   "cell_type": "markdown",
   "metadata": {},
   "source": [
    "For hver av de 4 tidligere grafene, lag et histogram over degree distribution og kommenter hva du ser.\n",
    "\n",
    "* Bruk metoden <code>histogram()</code> for å gjøre dette\n",
    "\n",
    "<em> Vi forventer å se at studenten har skjønt hva et degree distribution representerer og bruken av denne. I tillegg forventer vi et histogram per graf, med en kort kommentar på hva dette histogrammet forteller om grafen </em>"
   ]
  },
  {
   "cell_type": "code",
   "execution_count": null,
   "metadata": {},
   "outputs": [],
   "source": [
    "#Lag alle histogrammene her\n"
   ]
  },
  {
   "cell_type": "raw",
   "metadata": {},
   "source": [
    "Kommenter fordelingen av node degrees som vises i histogrammene her:\n",
    "\n"
   ]
  },
  {
   "cell_type": "markdown",
   "metadata": {},
   "source": [
    "## Oppgave 1.7\n",
    "Du skal nå lage en **Petersen**-graf nedenfor. Velg en sentralitet (betweenness, closeness, degree), beregn den ved å bruke de metodene som er gitt. Fjern deretter minst en node og se hvordan dette påvirker grafen. Kommenter forskjellen og hvordan endringen du gjør påvirker sentraliteten du har valgt."
   ]
  },
  {
   "cell_type": "code",
   "execution_count": null,
   "metadata": {},
   "outputs": [],
   "source": [
    "#Kode her "
   ]
  },
  {
   "cell_type": "raw",
   "metadata": {},
   "source": [
    "Kommenter observasjonene her \n"
   ]
  },
  {
   "cell_type": "markdown",
   "metadata": {},
   "source": [
    "# Del 2: Strukturanalyse\n",
    "I denne delen skal vi introdusere flere grafstrukturer. Disse grafstrukturene er mer komplekse, men gjenspeiler bedre relle nettverk. \n",
    "<br/> <em>Et tips her er å bruke seed=student_seed for å få samme graf her gang.</em>"
   ]
  },
  {
   "cell_type": "markdown",
   "metadata": {},
   "source": [
    "## Oppgave 2.1\n",
    "\n",
    "Lag følgende 2 grafer, alle med 125 noder:\n",
    "\n",
    "    Graf 1: En Barabasi Albert graf med parameter m=1\n",
    "    Graf 2: En Watts Strogatz graf med parametre k=4 og p=0.2\n",
    "\n",
    "Opprett et objekt for hver graf og tegn de."
   ]
  },
  {
   "cell_type": "code",
   "execution_count": null,
   "metadata": {},
   "outputs": [],
   "source": [
    "#Kode her\n"
   ]
  },
  {
   "cell_type": "markdown",
   "metadata": {},
   "source": [
    "### Oppgave 2.1.1\n",
    "Kommenter grafene du har tegnet.\n",
    "\n",
    "<em> Her forventer vi en sammenhengende tekst der man ser på likheter og forskjeller mellom de forskjellige grafene, med fokus på styrker og sårbarheter. </em>"
   ]
  },
  {
   "cell_type": "raw",
   "metadata": {},
   "source": [
    "Skriv svaret her:\n"
   ]
  },
  {
   "cell_type": "markdown",
   "metadata": {},
   "source": [
    "### Oppgave 2.1.2\n",
    "Finn degree distribution for grafene du tegnet. Kommenter. Hva sier degree distribution om robustheten til grafene?\n",
    "\n",
    "<em> Her forventer vi at studenten klarer å finne degree distribution for grafene fra oppgave 2.1. Kommenter hva fordelingen vil si for robustheten til grafene, og sammenlign grafenes robusthet. </em>"
   ]
  },
  {
   "cell_type": "code",
   "execution_count": null,
   "metadata": {},
   "outputs": [],
   "source": [
    "#Kode her\n"
   ]
  },
  {
   "cell_type": "raw",
   "metadata": {},
   "source": [
    "Skriv svaret her:\n"
   ]
  },
  {
   "cell_type": "markdown",
   "metadata": {},
   "source": [
    "## Oppgave 2.2\n",
    "\n",
    "### Oppgave 2.2.1\n",
    "\n",
    "Hvordan endrer degree distribution seg for en Barabasi Albert graf seg når m øker? Test det ut og forklar hvorfor."
   ]
  },
  {
   "cell_type": "code",
   "execution_count": null,
   "metadata": {},
   "outputs": [],
   "source": [
    "#Skriv kode her\n"
   ]
  },
  {
   "cell_type": "raw",
   "metadata": {},
   "source": [
    "Skriv svaret her:\n"
   ]
  },
  {
   "cell_type": "markdown",
   "metadata": {},
   "source": [
    "### Oppgave 2.2.2\n",
    "Hvordan endrer degree distribution seg for en Watts Strogats graf dersom k øker? Test det ut og forklar hvorfor."
   ]
  },
  {
   "cell_type": "code",
   "execution_count": null,
   "metadata": {},
   "outputs": [],
   "source": [
    "#Skriv kode her\n"
   ]
  },
  {
   "cell_type": "raw",
   "metadata": {},
   "source": [
    "Skriv svaret her:\n"
   ]
  },
  {
   "cell_type": "markdown",
   "metadata": {},
   "source": [
    "## Oppgave 2.3\n",
    "\n",
    "Konstruer et nettverk der den noden som har høyest betweeness centrality **ikke** er den samme som har høyeste degree centrality.\n",
    "\n",
    "<em> Her forventer vi at studentene skjønner sentralitetsbegrepene og forskjellene mellom dem. </em>"
   ]
  },
  {
   "cell_type": "code",
   "execution_count": null,
   "metadata": {},
   "outputs": [],
   "source": [
    "#Kode her\n"
   ]
  },
  {
   "cell_type": "code",
   "execution_count": null,
   "metadata": {},
   "outputs": [],
   "source": [
    "#Skriv beregning for degree og closeness centrality her \n"
   ]
  },
  {
   "cell_type": "raw",
   "metadata": {},
   "source": [
    "Kommenter svaret her:\n"
   ]
  },
  {
   "cell_type": "markdown",
   "metadata": {},
   "source": [
    "## Oppgave 2.4\n",
    "<code>WeightedGraph</code> simulerer et nettverk mellom et utvalg byer i Polen. Det er en enkel topologi, men det som er interessant er at kantene er vektet i henhold til avstanden mellom byene i kilometer.\n",
    "\n",
    "#### Oppgave 2.4.1\n",
    "Din oppgave er å velge deg en node som du skal beregne degree, betweeness og closeness centrality for hånd. Du må inkludere vektene til kantene i beregningene dine."
   ]
  },
  {
   "cell_type": "code",
   "execution_count": null,
   "metadata": {},
   "outputs": [],
   "source": [
    "#Kode her "
   ]
  },
  {
   "cell_type": "raw",
   "metadata": {},
   "source": [
    "Utregninger for hånd"
   ]
  },
  {
   "cell_type": "markdown",
   "metadata": {},
   "source": [
    "#### Oppgave 2.4.2\n",
    "Kommenter hvorfor vi, som nettverksingeniører, kan ønske å inkludere vekter i våre utregninger. I tillegg, hvilke andre verdier kan være av interesse når vi bruker vekter i vår analyse. Oppgi minst to eksempler.  "
   ]
  },
  {
   "cell_type": "code",
   "execution_count": null,
   "metadata": {},
   "outputs": [],
   "source": [
    "# Code here\n"
   ]
  },
  {
   "cell_type": "raw",
   "metadata": {
    "vscode": {
     "languageId": "raw"
    }
   },
   "source": [
    "Kommenter svaret her \n"
   ]
  },
  {
   "cell_type": "markdown",
   "metadata": {},
   "source": [
    "# Del 3: Angrep og robusthet\n",
    "I denne oppgaven skal vi analysere et fiktiv nettverk, som simulerer et reelt nettverk. "
   ]
  },
  {
   "cell_type": "markdown",
   "metadata": {},
   "source": [
    "## Oppgave 3.1\n",
    "\n",
    "<code>ConstructedGraph()</code> simulerer et reelt nettverk, bestående av et kjernenett med grid-struktur, et regionalnett og et tettbygd aksessnett. Bruk <code>ConstructedGraph()</code> for å tegne grafen."
   ]
  },
  {
   "cell_type": "code",
   "execution_count": null,
   "metadata": {},
   "outputs": [],
   "source": [
    "#Kode her\n"
   ]
  },
  {
   "cell_type": "markdown",
   "metadata": {},
   "source": [
    "### Oppgave 3.1.1\n",
    "Uten å se på centralities, hvilke(n) node(r) tror du er viktigst for nettverket?"
   ]
  },
  {
   "cell_type": "raw",
   "metadata": {},
   "source": [
    "Svar her:\n"
   ]
  },
  {
   "cell_type": "markdown",
   "metadata": {},
   "source": [
    "### Oppgave 3.1.2\n",
    "For hver av de tre centralitiene, finn de mest sentrale nodene og marker de. \n",
    "Hvordan ville du beskrevet robustheten til nettverket?\n",
    "\n",
    "<em> Her forventer vi at studenten skjønner hvilke deler dette nettverket er bygget opp av. Deretter forventer vi at studenten viser de mest sentrale nodene innenfor hver kategori, og drøfter robustheten til nettverket.  </em>"
   ]
  },
  {
   "cell_type": "code",
   "execution_count": null,
   "metadata": {},
   "outputs": [],
   "source": [
    "#Kode her\n"
   ]
  },
  {
   "cell_type": "raw",
   "metadata": {},
   "source": [
    "Drøfting her:\n"
   ]
  },
  {
   "cell_type": "markdown",
   "metadata": {},
   "source": [
    "### Oppgave 3.1.3\n",
    "For hver av de tre centralitiene, hvordan påvirkes nettverket dersom den mest sentrale noden fjernes? Hvilken centrality ville du brukt for å vurdere hvilke noder som er viktigst i nettverket?\n",
    "\n",
    "<em> Her forventer vi at studenten ikke fjerner 3 noder samtidig, men ser på en og en centrality. </em>"
   ]
  },
  {
   "cell_type": "code",
   "execution_count": null,
   "metadata": {},
   "outputs": [],
   "source": [
    "#Kode her\n"
   ]
  },
  {
   "cell_type": "code",
   "execution_count": null,
   "metadata": {},
   "outputs": [],
   "source": [
    "#Kode her\n"
   ]
  },
  {
   "cell_type": "code",
   "execution_count": null,
   "metadata": {},
   "outputs": [],
   "source": [
    "#Kode her\n"
   ]
  },
  {
   "cell_type": "raw",
   "metadata": {},
   "source": [
    "Drøfting her:\n"
   ]
  },
  {
   "cell_type": "markdown",
   "metadata": {},
   "source": [
    "## Oppgave 3.2\n",
    "Videre skal vi gå i dybden på det fiktive nettverket fra oppgave 3.1, men vi skal bruke en utvidet versjon. Kjør cellen under for å konstruere nettverket.\n",
    "\n",
    "Bruk metoden <code>delete_random_nodes</code> for å simulere tilfeldige feil som kan skje i nettverket.\n",
    "* Fjern en node. Tegn så grafen\n",
    "* Fjern tre noder. Tegn så grafen\n",
    "\n",
    "Kommenter skaden av nettverket\n",
    "\n",
    "<em> Her forventer vi å se at studenten klarer å printe ut to forskjellige grafer, en der én node er fjernet og en der tre noder er fjernet. Disse nodene skal være fjernet ved å bruke metoden delete_random_nodes. Vi forventer også en kort analyse av nettverket og skadeinnvirkning fra feilene. Her kan man dra inn metoder fra tidligere. </em>"
   ]
  },
  {
   "cell_type": "code",
   "execution_count": null,
   "metadata": {},
   "outputs": [],
   "source": [
    "cge = ConstructedGraph(expanded=True)\n",
    "cge.draw()"
   ]
  },
  {
   "cell_type": "code",
   "execution_count": null,
   "metadata": {},
   "outputs": [],
   "source": [
    "#Skriv koden her\n"
   ]
  },
  {
   "cell_type": "raw",
   "metadata": {},
   "source": [
    "Kommenter her:\n"
   ]
  },
  {
   "cell_type": "markdown",
   "metadata": {},
   "source": [
    "### Oppgave 3.3\n",
    "Prøv å angripe nettverket ved å bruke en kombinasjon av logisk tenkning og verdiene fra oppgave 3.1. Oppgaven her er å gjøre så mye skade som mulig ved å fjerne tre noder.\n",
    "\n",
    "For hver node du velger å fjerne, begrunn hvorfor.\n",
    "\n",
    "<em> Her forventer vi at studenten har forstått oppgaven og velger å fjerne tre noder som er svært sentrale. Forventer å se begrunnelse/tankegang for hver node som fjernes. </em>"
   ]
  },
  {
   "cell_type": "code",
   "execution_count": null,
   "metadata": {},
   "outputs": [],
   "source": [
    "#Kode her\n"
   ]
  },
  {
   "cell_type": "markdown",
   "metadata": {},
   "source": [
    "## Oppgave 3.4\n",
    "En måte å se hvor mye skade som har blitt gjort på et nettverk er å bruke noder i største partisjon, eller se på node degree ved hjelp av et histogram.\n",
    "\n",
    "Bruk disse metodene på oppgave 3.2 og 3.3, og diskuter skadene ut fra resultatene du får.\n",
    "\n",
    "<em> Her forventer vi å se at studenten klarer å vise histogram og klarer å bruke metoden for å finne noder i største partisjon. Vi forventer også å se en drøftning av konsekvensene i de to foregående oppgavene, og at studenten skjønner alvorligheten i målrettede angrep.</em>"
   ]
  },
  {
   "cell_type": "code",
   "execution_count": null,
   "metadata": {},
   "outputs": [],
   "source": [
    "#Kode her\n"
   ]
  },
  {
   "cell_type": "raw",
   "metadata": {},
   "source": [
    "Forklar her:\n"
   ]
  },
  {
   "cell_type": "markdown",
   "metadata": {},
   "source": [
    "## Oppgave 3.5\n",
    "Hva kan være fordeler og ulemper ved å kun bruke noder i største partisjon og histogram som pålitelighetsmål? Er dette fornuftig i vårt tilfelle?\n",
    "\n",
    "<em> Her forventer vi å se at studenten har forstått begrepet noder i største partisjon, og hvorfor dette kan brukes til å vise sårbarhet. Vi forventer også en drøftning av hvorfor/hvorfor ikke det kan være lurt å bruke noder i største partisjon og histogram som den eneste måten for å vurdere robustheten til nettverket.</em>"
   ]
  },
  {
   "cell_type": "code",
   "execution_count": null,
   "metadata": {},
   "outputs": [],
   "source": [
    "# Forklar her\n"
   ]
  },
  {
   "cell_type": "markdown",
   "metadata": {},
   "source": [
    "## Oppgave 3.6\n",
    "Under ser du metoden for å lage en graf som sammenligner angrep med forskjellige metoder. Bruk metoden på det originale nettverket og sammenlign med det samme nettverket der du har lagt inn tre ekstra kanter som redundans. Diskuter kort effekten av ekstra redundans.\n",
    "\n",
    "<em> Her forventer vi å se at studenten har klart å bruke metoden som er gitt til å vise skaden på det originale nettverket. Deretter forventer vi å se at studenten klarer å legge inn tre ekstra kanter, og begrunne hvorfor disse tre kantene er valgt. Til slutt vil vi se en kort diskusjon av effekten vi får av å legge til ekstra kanter i et nettverk.</em>"
   ]
  },
  {
   "cell_type": "code",
   "execution_count": null,
   "metadata": {},
   "outputs": [],
   "source": [
    "def get_attack_graph(G):\n",
    "    count = G.number_of_nodes()\n",
    "    outputs = [[0 for _ in range(count)] for _ in range(4)]\n",
    "    graphs = [G for _ in range(4)]\n",
    "    x = range(0,count)\n",
    "\n",
    "    for i in x:\n",
    "        for j, graph in enumerate(graphs):\n",
    "            outputs[j][i] = graphs[j].get_largest_components_size()\n",
    "        graphs[0] = graphs[0].delete_random_nodes(print_result=False)\n",
    "        graphs[1] = graphs[1].delete_nodes_attack(centrality_index=\"degree\",print_result=False)\n",
    "        graphs[2] = graphs[2].delete_nodes_attack(centrality_index=\"closeness\",print_result=False)\n",
    "        graphs[3] = graphs[3].delete_nodes_attack(centrality_index=\"betweenness\",print_result=False)\n",
    "\n",
    "    bc1,bc2,bc3,bc4 = outputs\n",
    "    plt.plot(x,bc1,color=\"red\",label=\"Random faults\")\n",
    "    plt.plot(x,bc2,color=\"green\",label=\"Degree centrality\")\n",
    "    plt.plot(x,bc3,color=\"blue\",label=\"Closeness Centrality\")\n",
    "    plt.plot(x,bc4,color=\"orange\", label=\"Betweenness Centrality\")\n",
    "    plt.ylabel(\"Amount of nodes in largest partition\")\n",
    "    plt.xlabel(\"Amount of nodes in removed\")\n",
    "    plt.legend(loc=\"upper right\")\n",
    "    plt.show()\n"
   ]
  },
  {
   "cell_type": "code",
   "execution_count": null,
   "metadata": {},
   "outputs": [],
   "source": [
    "# Kode her "
   ]
  },
  {
   "cell_type": "raw",
   "metadata": {},
   "source": [
    "Forklar her: \n"
   ]
  },
  {
   "cell_type": "markdown",
   "metadata": {},
   "source": [
    "# Del 4: Sikring av AutoCAR\n",
    "\n",
    "Du er nå ansatt som sikkerhetsingeniør i AutoCAR og har som oppgave å styrke nettverket mot angrep, både mot ondsinnede handlinger og tilfeldige feil. Du skal først analysere nettverket, påpeke åpenbare svakheter og legge til ekstra redundans der det trengs, uten at kostnadene skal bli unødvendig høye. For å analysere og sikre nettverket kan du bruke metodene som er introdusert i øvingen. Forklar dine valg og koble dem til de ulike ikke-funksjonelle kravene fra tidligere øvinger (security, dependability, performance, etc.). Drøft også konsekvensene av at ondsinnede aktører får tak i informasjon om nettverkstopologien. \n",
    "\n",
    "Analysen skal vise en gjennomgående forståelse av grafteori. Forståelse av relevante fagbegreper blir vektlagt. Oppgaven skal være kort og konsis, maks 800 ord. Start oppgaven med et bilde av nettverket. Bruk figurer, histogrammer og grafer til å vise hvordan og hvorfor du vil sikre nettverket. Er det noen typer noder som er viktigere å sikre enn andre? Utforsk gjerne ved å legge til redundans og teste angrep for å vurdere tiltakene dine. Bruk gjerne <code>get_attack_graph()</code>. Kom med en anbefaling for hvordan nettverket bedre kan sikres mot angrep og tilfeldige feil basert på dine funn.\n",
    "\n",
    "Nettverket du skal analysere finner du ved å kjøre kodeblokken under:"
   ]
  },
  {
   "cell_type": "code",
   "execution_count": null,
   "metadata": {},
   "outputs": [],
   "source": [
    "r.seed(student_seed)\n",
    "car_count = r.randint(4,7)\n",
    "satellite_count = r.randint(1,3)\n",
    "radio_tower_count = r.randint(1,3)\n",
    "datacenter_count = r.randint(1, 2)\n",
    "\n",
    "autocar = AutoCAR(car_count, satellite_count, datacenter_count, radio_tower_count)\n",
    "autocar.draw()"
   ]
  },
  {
   "cell_type": "raw",
   "metadata": {},
   "source": [
    "Svar her:\n"
   ]
  }
 ],
 "metadata": {
  "kernelspec": {
   "display_name": "Python 3",
   "language": "python",
   "name": "python3"
  },
  "language_info": {
   "codemirror_mode": {
    "name": "ipython",
    "version": 3
   },
   "file_extension": ".py",
   "mimetype": "text/x-python",
   "name": "python",
   "nbconvert_exporter": "python",
   "pygments_lexer": "ipython3",
   "version": "3.13.1"
  }
 },
 "nbformat": 4,
 "nbformat_minor": 2
}
