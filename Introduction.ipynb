{
 "cells": [
  {
   "cell_type": "code",
   "execution_count": null,
   "metadata": {},
   "outputs": [],
   "source": [
    "!pip install -r requirements.txt"
   ]
  },
  {
   "cell_type": "markdown",
   "metadata": {},
   "source": [
    "# Introduction to Graph Tools\n",
    "In this section, we will get acquainted with the various Python modules that will be used to solve exercise 3. We have created a library that builds on the graph library `networkx`. All classes inherit from `networkx.Graph`, and if desired, more detailed documentation for this library can be found [here](https://networkx.github.io/documentation/stable/reference/index.html). It is expected that you have completed the basic course in Information Technology before taking this course, but if you do not remember how object-oriented code in Python works, you can refer to [this](https://www.geeksforgeeks.org/object-oriented-programming-in-python-set-1-class-and-its-members/) tutorial for basic guidance.\n",
    "<p>This document is only for you to learn how to use the Python modules, and it is not intended to be submitted. Feel free to create your own cells throughout the document to test the code with your own variables. Alternatively, you can just modify what we have written.</p>\n",
    "\n",
    "***Note: The following excersises have been tested with python version 3.13.1.***\n",
    "\n",
    "## Graph Classes\n",
    "We have created the following classes to represent the different graphs:\n",
    "<ol>\n",
    "    <li><code>Graph</code></li>\n",
    "    <li><code>BussGraph</code></li>\n",
    "    <li><code>TreeGraph</code></li>\n",
    "    <li><code>RingGraph</code></li>\n",
    "    <li><code>StarGraph</code></li>\n",
    "    <li><code>GridGraph</code></li>\n",
    "    <li><code>MeshGraph</code></li>\n",
    "    <li><code>BroomstickGraph</code></li>\n",
    "    <li><code>WattsStrogatz</code></li>\n",
    "    <li><code>BarabasiAlbert</code></li>\n",
    "    <li><code>RealNetworkGraph</code></li>\n",
    "    <li><code>ConstructedGraph</code></li>\n",
    "    <li><code>PetersenGraph</code></li>\n",
    "    <li><code>WeightedGraph</code></li>\n",
    "    <li><code>AutoCAR</code></li>\n",
    "</ol>\n",
    "\n",
    "Before these can be used, they must be imported, which is done by running the code block below:"
   ]
  },
  {
   "cell_type": "code",
   "execution_count": null,
   "metadata": {},
   "outputs": [],
   "source": [
    "from graph_utils.graph import Graph, nx, plt\n",
    "from graph_utils.buss_graph import BussGraph\n",
    "from graph_utils.tree_graph import TreeGraph\n",
    "from graph_utils.ring_graph import RingGraph\n",
    "from graph_utils.star_graph import StarGraph\n",
    "from graph_utils.grid_graph import GridGraph\n",
    "from graph_utils.mesh_graph import MeshGraph\n",
    "from graph_utils.constructed_graph import ConstructedGraph\n",
    "from graph_utils.watts_strogatz import WattsStrogatz\n",
    "from graph_utils.barabasi_albert import BarabasiAlbert\n",
    "from graph_utils.real_network_graph import RealNetworkGraph\n",
    "from graph_utils.broomstick_graph import BroomstickGraph\n",
    "from graph_utils.weighted_graph import WeightedGraph\n",
    "from graph_utils.petersen_graph import PetersenGraph\n",
    "from graph_utils.autocar import AutoCAR\n",
    "import random as r"
   ]
  },
  {
   "cell_type": "markdown",
   "metadata": {},
   "source": [
    "## Graph\n",
    "##### Keyword Argument\n",
    "<ul>\n",
    "    <li>seed: Seed can be used when performing random operations. More on this later. <br> <b>Note:</b> To use seeds, it must be set as a keyword argument. <code>Graph(5)</code> will not set the seed to 5, but <code>Graph(seed=5)</code> will work. All the different graph classes can take seed as a keyword argument.</li>\n",
    "</ul>\n",
    "\n",
    "This is the most general class for graph objects. This class directly inherits from `networkx.Graph`, thus having all the same methods as a `networkx.Graph` object. Additionally, we have created some methods that provide more functionality. All the other classes from 2 to 7 in the list inherit from this class and will therefore have all the methods from both `networkx.Graph` and our own `Graph`. Hence, a lot of information about methods that can be used will be provided under the section for `Graph`. This applies to all the other graph objects unless explicitly stated otherwise in the section for the respective graph.\n",
    "<p>We start by creating an object, then we can look at the methods we can use on it. To illustrate seeds, we have printed an object with a randomly generated seed and one with a predefined seed. If you run the code below multiple times, you will see that <code>graph</code> gets a different seed each time, while <code>graph2</code> has 69420 every time.</p>"
   ]
  },
  {
   "cell_type": "code",
   "execution_count": null,
   "metadata": {},
   "outputs": [],
   "source": [
    "graf = Graph()\n",
    "graf2 = Graph(seed=69420)\n",
    "print(graf.seed)\n",
    "print(graf2.seed)"
   ]
  },
  {
   "cell_type": "markdown",
   "metadata": {},
   "source": [
    "<code>graph</code> is now an empty graph object without any nodes or edges. We start by adding nodes."
   ]
  },
  {
   "cell_type": "markdown",
   "metadata": {},
   "source": [
    "### add_node()\n",
    "##### Parameters\n",
    "<ul>\n",
    "    <li>n: an object of any data type (most commonly used is <code>int</code>, but anything works).</li>\n",
    "</ul>\n",
    "To add a single node, we can use the method <code>add_node()</code>."
   ]
  },
  {
   "cell_type": "code",
   "execution_count": null,
   "metadata": {},
   "outputs": [],
   "source": [
    "graf.add_node(\"security\")  # Here we show that a string works as id\n",
    "graf.add_node(2)"
   ]
  },
  {
   "cell_type": "markdown",
   "metadata": {},
   "source": [
    "### add_nodes_from() \n",
    "##### Parameters\n",
    "<ul>\n",
    "    <li>nodes: A list of objects to represent nodes.</li>\n",
    "</ul>\n",
    "Another way to add nodes is by using the method <code>add_nodes_from()</code>. This is the simplest way to add multiple nodes at once."
   ]
  },
  {
   "cell_type": "code",
   "execution_count": null,
   "metadata": {},
   "outputs": [],
   "source": [
    "graf.add_nodes_from([\"robustness\", 4, 5, 6])"
   ]
  },
  {
   "cell_type": "markdown",
   "metadata": {},
   "source": [
    "### add_edge()\n",
    "##### Parameters\n",
    "<ul>\n",
    "    <li>u_of_edge: ID of node u for the edge (u, v).</li>\n",
    "    <li>v_of_edge: ID of node v for the edge (u, v).</li>\n",
    "</ul>\n",
    "The graph we have created so far does not have any edges. We can add them using the method <code>add_edge()</code>."
   ]
  },
  {
   "cell_type": "code",
   "execution_count": null,
   "metadata": {},
   "outputs": [],
   "source": [
    "graf.add_edge(u_of_edge=\"security\", v_of_edge=5)  # Edge from the node \"security\" to node 5\n",
    "graf.add_edge(\"security\", \"robustness\")"
   ]
  },
  {
   "cell_type": "markdown",
   "metadata": {},
   "source": [
    "### add_edges_from()\n",
    "##### Parameters\n",
    "<ul>\n",
    "    <li>ebunch_to_add: A list of tuples consisting of node IDs.</li>\n",
    "</ul>\n",
    "We can also add multiple edges at once using the method <code>add_edges_from()</code>."
   ]
  },
  {
   "cell_type": "code",
   "execution_count": null,
   "metadata": {},
   "outputs": [],
   "source": [
    "graf.add_edges_from(ebunch_to_add=\n",
    "    [\n",
    "        # This is one of the reasons as to why it is easier to just use ints\n",
    "        # Using strings there is a lot to type which cannot be automated with for example a for-loop\n",
    "        (\"security\", 2), \n",
    "        (5, \"robustness\"), \n",
    "        (\"robustness\", 2), \n",
    "        (\"security\", 4), \n",
    "        (\"security\", 6)\n",
    "    ]\n",
    ")"
   ]
  },
  {
   "cell_type": "markdown",
   "metadata": {},
   "source": [
    "### number_of_nodes()\n",
    "We can determine the number of nodes in a graph by using the method <code>number_of_nodes()</code>."
   ]
  },
  {
   "cell_type": "code",
   "execution_count": null,
   "metadata": {},
   "outputs": [],
   "source": [
    "print(graf.number_of_nodes())"
   ]
  },
  {
   "cell_type": "markdown",
   "metadata": {},
   "source": [
    "### number_of_edges()\n",
    "Similarly, we can determine the number of edges in the graph by using the method <code>number_of_edges()</code>."
   ]
  },
  {
   "cell_type": "code",
   "execution_count": null,
   "metadata": {},
   "outputs": [],
   "source": [
    "print(graf.number_of_edges())"
   ]
  },
  {
   "cell_type": "code",
   "execution_count": null,
   "metadata": {},
   "outputs": [],
   "source": [
    "graf.draw()"
   ]
  },
  {
   "cell_type": "markdown",
   "metadata": {},
   "source": [
    "### draw()\n",
    "##### Parameters\n",
    "<ul>\n",
    "    <li><code>node_color</code>: a string or a list of strings. Default <code>\"#1f78b4\"</code>. If a list is provided as an argument, it must be of the same length as <code>number_of_nodes()</code>.</li>\n",
    "    <li><code>edge_color</code>: a string or a list of strings. Default <code>\"k\"</code>. If a list is provided as an argument, it must be of the same length as <code>number_of_edges()</code>.</li>\n",
    "    <li><code>node_size</code>: an integer. Default <code>300</code></li>\n",
    "</ul>\n",
    "We can draw the graphs we create. This is done using the method <code>draw()</code>. In some cases, it may be useful to adjust some of the parameters (for example, if you have a very large graph, it may be useful to reduce <code>node_size</code>). <code>node_color</code> and <code>edge_color</code> can use all <a href=https://matplotlib.org/3.1.0/gallery/color/named_colors.html target=\"_blank\"> matplotlib's named colors</a>, as well as all 24-bit hex color values. <code>node_size</code> is an integer greater than 0. Here are some examples of usage."
   ]
  },
  {
   "cell_type": "code",
   "execution_count": null,
   "metadata": {
    "scrolled": false
   },
   "outputs": [],
   "source": [
    "graf.draw()\n",
    "graf.draw(node_size=50)\n",
    "graf.draw(node_color=\"#FA97FA\", node_size=3500, edge_color=\"red\")"
   ]
  },
  {
   "cell_type": "markdown",
   "metadata": {},
   "source": [
    "### get_shortest_path()\n",
    "##### Parameters\n",
    "<ul>\n",
    "    <li>node1: NodeID for the starting node in the shortest path search.</li>\n",
    "    <li>node2: NodeID for the ending node in the shortest path search.</li>\n",
    "</ul>\n",
    "Often, it can be useful to find the shortest path between two nodes, which we can do using the method <code>get_shortest_path()</code>. It returns a list of nodes that are part of the shortest path between the start and end nodes."
   ]
  },
  {
   "cell_type": "code",
   "execution_count": null,
   "metadata": {},
   "outputs": [],
   "source": [
    "shortest = graf.get_shortest_path(6, 2)\n",
    "print(shortest)\n",
    "\n",
    "F = Graph()\n",
    "F.add_nodes_from([1, 2])\n",
    "print(F.get_shortest_path(1, 2))  # Will return None since we do not have any edges"
   ]
  },
  {
   "cell_type": "markdown",
   "metadata": {},
   "source": [
    "### mark_shortest_path()\n",
    "##### Parameters\n",
    "<ul>\n",
    "    <li>node1: NodeID for the starting node in the shortest path search.</li>\n",
    "    <li>node2: NodeID for the ending node in the shortest path search.</li>\n",
    "</ul>\n",
    "This method works very similarly to <code>get_shortest_path()</code>, but instead of returning the shortest path, it draws the graph with the shortest path marked."
   ]
  },
  {
   "cell_type": "code",
   "execution_count": null,
   "metadata": {},
   "outputs": [],
   "source": [
    "graf.mark_shortest_path(6, 4)"
   ]
  },
  {
   "cell_type": "markdown",
   "metadata": {},
   "source": [
    "### mark_nodes()\n",
    "##### Parameters\n",
    "<ul>\n",
    "    <li>mark_nodes: A list of node IDs to be marked.</li>\n",
    "</ul>\n",
    "If you want to mark certain nodes in a graph, you can do so using the method <code>mark_nodes()</code>."
   ]
  },
  {
   "cell_type": "code",
   "execution_count": null,
   "metadata": {},
   "outputs": [],
   "source": [
    "graf.mark_nodes([\"robustness\", 4, 6])"
   ]
  },
  {
   "cell_type": "markdown",
   "metadata": {},
   "source": [
    "### degree_centrality()\n",
    "To find the degree centrality for each node, you can use the method <code>degree_centrality()</code>. It returns a <code>dict</code> with node IDs as keys and degree centrality as values."
   ]
  },
  {
   "cell_type": "code",
   "execution_count": null,
   "metadata": {},
   "outputs": [],
   "source": [
    "print(graf.degree_centrality())\n",
    "\n",
    "# Optional for nice print \n",
    "print()\n",
    "print(\"ID\".ljust(15), \"Degree\")\n",
    "for node, degree in graf.degree_centrality().items():\n",
    "    print(f\"Node {node}\".ljust(15), degree)"
   ]
  },
  {
   "cell_type": "markdown",
   "metadata": {},
   "source": [
    "### draw_degree_centrality()\n",
    "##### Parameters\n",
    "<ul>\n",
    "    <li>avg_size: a float representing the average node size. Default 300</li>\n",
    "</ul>\n",
    "Sometimes, it can be interesting to visualize the graph where the nodes have sizes corresponding to their degree centrality. Here, you may need to experiment with the avg_size argument to get a graph where nodes are not too large or too small, making it difficult to read."
   ]
  },
  {
   "cell_type": "code",
   "execution_count": null,
   "metadata": {},
   "outputs": [],
   "source": [
    "graf.draw_degree_centrality()\n",
    "graf.draw_degree_centrality(avg_size=1000)"
   ]
  },
  {
   "cell_type": "markdown",
   "metadata": {},
   "source": [
    "### closeness_centrality()\n",
    "Similar to <code>degree_centrality()</code>, this method also returns a <code>dict</code> with node IDs as keys and closeness centrality as values."
   ]
  },
  {
   "cell_type": "code",
   "execution_count": null,
   "metadata": {},
   "outputs": [],
   "source": [
    "print(graf.closeness_centrality())\n",
    "\n",
    "# Optional for nice print \n",
    "print()\n",
    "print(\"ID\".ljust(15), \"Closeness\")\n",
    "for node, closeness in graf.closeness_centrality().items():\n",
    "    print(f\"Node {node}\".ljust(15), closeness)"
   ]
  },
  {
   "cell_type": "markdown",
   "metadata": {},
   "source": [
    "### draw_closeness_centrality()\n",
    "##### Parameters\n",
    "<ul>\n",
    "    <li>avg_size: a float representing the average node size. Default 300</li>\n",
    "</ul>\n",
    "Just like with <code>degree_centrality()</code>, here we can also visualize the graph with nodes sized based on closeness centrality."
   ]
  },
  {
   "cell_type": "code",
   "execution_count": null,
   "metadata": {},
   "outputs": [],
   "source": [
    "graf.draw_closeness_centrality()\n",
    "graf.draw_closeness_centrality(1337)"
   ]
  },
  {
   "cell_type": "markdown",
   "metadata": {},
   "source": [
    "### betweenness_centrality()\n",
    "Just like the other two centrality indices, we can also find betweenness centrality."
   ]
  },
  {
   "cell_type": "code",
   "execution_count": null,
   "metadata": {},
   "outputs": [],
   "source": [
    "print(graf.betweenness_centrality())\n",
    "\n",
    "# Optional for nice print \n",
    "print()\n",
    "print(\"ID\".ljust(15), \"Betweenness\")\n",
    "for node, betweenness in graf.betweenness_centrality().items():\n",
    "    print(f\"Node {node}\".ljust(15), betweenness)"
   ]
  },
  {
   "cell_type": "code",
   "execution_count": null,
   "metadata": {},
   "outputs": [],
   "source": [
    "graf.draw_betweenness_centrality()\n",
    "graf.draw_betweenness_centrality(420)"
   ]
  },
  {
   "cell_type": "markdown",
   "metadata": {},
   "source": [
    "### Histogram\n",
    "To analyze a graph, a histogram of the degree distribution is often very helpful. We can plot a histogram for the degree distribution using the method <code>histogram()</code>. This method also returns a list where each index in the list represents node degree, and each element in the list represents the number of nodes with the respective node degree. Since the method returns something, the output will automatically be printed when calling the function. To suppress this, we can use <code>;</code>."
   ]
  },
  {
   "cell_type": "code",
   "execution_count": null,
   "metadata": {
    "scrolled": true
   },
   "outputs": [],
   "source": [
    "graf.histogram();  # Printer ikke listen som representerer histogrammet\n",
    "graf.histogram()  # Printer automatisk listen som representerer histogrammet"
   ]
  },
  {
   "cell_type": "code",
   "execution_count": null,
   "metadata": {},
   "outputs": [],
   "source": [
    "representation = graf.histogram() # Does not print the list which represents the histogram as the output is catched by the variable\n",
    "print(\"This is the result by the print method:\", representation, sep=\"\\n\")"
   ]
  },
  {
   "cell_type": "markdown",
   "metadata": {},
   "source": [
    "### get_largest_components_size()\n",
    "Sometimes it can be interesting to know the number of nodes in the largest connected component of a graph. This can be done using the method <code>get_largest_components_size()</code>. Note that this function has quite poor runtime so it can take a relatively long time if called on large graphs."
   ]
  },
  {
   "cell_type": "code",
   "execution_count": null,
   "metadata": {},
   "outputs": [],
   "source": [
    "print(graf.get_largest_components_size())"
   ]
  },
  {
   "cell_type": "markdown",
   "metadata": {},
   "source": [
    "### remove_node()\n",
    "##### Parameters\n",
    "<ul>\n",
    "    <li>n: ID of the node to be removed.</li>\n",
    "</ul>\n",
    "If you want to remove a node, you can do so using the method <code>remove_node()</code>."
   ]
  },
  {
   "cell_type": "code",
   "execution_count": null,
   "metadata": {},
   "outputs": [],
   "source": [
    "graf.remove_node(2)\n",
    "graf.draw()"
   ]
  },
  {
   "cell_type": "markdown",
   "metadata": {},
   "source": [
    "### delete_nodes_attack()\n",
    "##### Parameters\n",
    "<ul>\n",
    "    <li>n: Number of nodes to be deleted.</li>\n",
    "    <li>centrality_index: A string determining which centrality index to base on when finding the \"most important\" node. Valid values are <code>\"degree\"</code>, <code>\"closeness\"</code>, and <code>\"betweenness\"</code>.</li>\n",
    "    <li>print_result: A <code>bool</code> determining whether the method should print which node it deletes.</li>\n",
    "</ul>\n",
    "During the exercise, we want to simulate different attacks on the networks we will create. The method <code>delete_nodes_attack()</code> allows us to attack n number of nodes with the n highest values of the centrality_index variable. The method returns a copy of the graph that calls it, so the original graph does not lose nodes as with <code>remove_node()</code>."
   ]
  },
  {
   "cell_type": "code",
   "execution_count": null,
   "metadata": {},
   "outputs": [],
   "source": [
    "ny_graf1 = graf.delete_nodes_attack(n=3, centrality_index=\"degree\", print_result=True)\n",
    "ny_graf1.draw()"
   ]
  },
  {
   "cell_type": "code",
   "execution_count": null,
   "metadata": {},
   "outputs": [],
   "source": [
    "ny_graf2 = graf.delete_nodes_attack(n=1, centrality_index=\"closeness\", print_result=False)\n",
    "ny_graf2.draw()"
   ]
  },
  {
   "cell_type": "markdown",
   "metadata": {},
   "source": [
    "### delete_random_nodes()\n",
    "##### Parameters\n",
    "<ul>\n",
    "    <li>n: Number of nodes to be deleted.</li>\n",
    "    <li>print_result: A <code>bool</code> determining whether the method should print which node it deletes.</li>\n",
    "</ul>\n",
    "In real-world networks, random errors can occur with nodes causing them to be lost from the network. The method <code>delete_random_nodes()</code> allows us to simulate this. It deletes n number of nodes by choosing random nodes. (It will not delete using \"true\" randomness. It uses a \"seeded random\". More on that will come a little further down). Similarly to <code>delete_nodes_attack()</code>, <code>delete_random_nodes()</code> also returns a copy of the graph that calls it."
   ]
  },
  {
   "cell_type": "code",
   "execution_count": null,
   "metadata": {},
   "outputs": [],
   "source": [
    "ny_graf_1 = graf.delete_random_nodes(1, print_result=True)\n",
    "ny_graf_1.draw()\n",
    "print(graf.number_of_nodes())  # Dette vil fortsatt være 5 selv om vi \"sletter\" en node\n",
    "\n",
    "ny_graf_2 = graf.delete_random_nodes(3, print_result=True)\n",
    "ny_graf_2.draw()"
   ]
  },
  {
   "cell_type": "markdown",
   "metadata": {},
   "source": [
    "## A bit about random and seeds\n",
    "As mentioned in the section about <code>delete_random_nodes()</code>, we use a seeded random to perform methods related to randomness. All graph objects have a built-in seed that is used in all methods involving randomness. This means that when a graph object is instantiated, the random methods will have the same behavior even if called multiple times in succession. The code below demonstrates how seeded random works. We get the same sequence every time we call <code>random.randint()</code>."
   ]
  },
  {
   "cell_type": "code",
   "execution_count": null,
   "metadata": {},
   "outputs": [],
   "source": [
    "import random\n",
    "\n",
    "seed = 198\n",
    "for i in range(5):\n",
    "    random.seed(seed)\n",
    "    print(f\"{i + 1}. iterasjon: \")\n",
    "    for j in range(i + 1):\n",
    "        print(f\"{j + 1}. random gir\", random.randint(42, 420))\n",
    "    print()\n"
   ]
  },
  {
   "cell_type": "markdown",
   "metadata": {},
   "source": [
    "Similarly, <code>delete_random_nodes()</code> will always delete the same sequence of nodes. If we had instantiated a new graph object, we would get a new seed and a new \"random\" sequence of nodes being deleted."
   ]
  },
  {
   "cell_type": "code",
   "execution_count": null,
   "metadata": {},
   "outputs": [],
   "source": [
    "ny1 = graf.delete_random_nodes(2, print_result=True)\n",
    "ny2 = graf.delete_random_nodes(2, print_result=True)"
   ]
  },
  {
   "cell_type": "markdown",
   "metadata": {},
   "source": [
    "## BussGraph\n",
    "##### Parameters\n",
    "<ul>\n",
    "    <li>n: Number of nodes in the network.</li>\n",
    "</ul>\n",
    "A <code>BussGraph</code> does not have its own methods, but inherits all the methods described in the section for <code>Graph</code>. Particularly for a Bus graph, all nodes are only connected to two other nodes."
   ]
  },
  {
   "cell_type": "code",
   "execution_count": null,
   "metadata": {},
   "outputs": [],
   "source": [
    "buss = BussGraph(10)\n",
    "buss.draw()"
   ]
  },
  {
   "cell_type": "markdown",
   "metadata": {},
   "source": [
    "## TreeGraph\n",
    "##### Parameters\n",
    "<ul>\n",
    "    <li>splits: Number of edges per node in the parent node network.</li>\n",
    "    <li>height: Depth in the network.</li>\n",
    "</ul>\n",
    "A <code>TreeGraph</code> does not have its own methods, but inherits all the methods described in the section for <code>Graph</code>. Particularly for a Tree graph, a tree graph is an acyclic simple graph."
   ]
  },
  {
   "cell_type": "code",
   "execution_count": null,
   "metadata": {},
   "outputs": [],
   "source": [
    "tree = TreeGraph(4,2)\n",
    "tree.draw()"
   ]
  },
  {
   "cell_type": "markdown",
   "metadata": {},
   "source": [
    "## RingGraph\n",
    "##### Parameters\n",
    "<ul>\n",
    "    <li>n: Number of nodes in the network.</li>\n",
    "</ul>\n",
    "A <code>RingGraph</code> does not have its own methods, but inherits all the methods described in the section for <code>Graph</code>. Particularly for a Ring graph, each node has two edges."
   ]
  },
  {
   "cell_type": "code",
   "execution_count": null,
   "metadata": {},
   "outputs": [],
   "source": [
    "ring = RingGraph(5)\n",
    "ring.draw()"
   ]
  },
  {
   "cell_type": "markdown",
   "metadata": {},
   "source": [
    "## StarGraph\n",
    "##### Parameters\n",
    "<ul>\n",
    "    <li>n: Number of leaf nodes in the network.</li>\n",
    "</ul>\n",
    "A <code>StarGraph</code> does not have its own methods, but inherits all the methods described in the section for <code>Graph</code>. <br/>\n",
    "A star has one node in the center and the rest are leaf nodes."
   ]
  },
  {
   "cell_type": "code",
   "execution_count": null,
   "metadata": {},
   "outputs": [],
   "source": [
    "star = StarGraph(10)\n",
    "star.draw()"
   ]
  },
  {
   "cell_type": "markdown",
   "metadata": {},
   "source": [
    "## GridGraph\n",
    "##### Parameters\n",
    "<ul>\n",
    "    <li>height: Number of nodes in the height of the network.</li>\n",
    "    <li>width: Number of nodes in the width of the network.</li>\n",
    "</ul>\n",
    "A <code>GridGraph</code> does not have its own methods, but inherits all the methods described in the section for <code>Graph</code>."
   ]
  },
  {
   "cell_type": "code",
   "execution_count": null,
   "metadata": {},
   "outputs": [],
   "source": [
    "grid = GridGraph(7, 7)\n",
    "grid.draw()"
   ]
  },
  {
   "cell_type": "markdown",
   "metadata": {},
   "source": [
    "## MeshGraph\n",
    "##### Parameters\n",
    "<ul>\n",
    "    <li>n: Number of nodes in the network.</li>\n",
    "</ul>\n",
    "A <code>MeshGraph</code> does not have its own methods, but inherits all the methods described in the section for <code>Graph</code>. Particularly for a Mesh graph, all nodes are connected to all other nodes."
   ]
  },
  {
   "cell_type": "code",
   "execution_count": null,
   "metadata": {},
   "outputs": [],
   "source": [
    "mesh = MeshGraph(7)\n",
    "mesh.draw()"
   ]
  },
  {
   "cell_type": "markdown",
   "metadata": {},
   "source": [
    "## BroomstickGraph\n",
    "##### Parameters\n",
    "<ul>\n",
    "    <li>n: Number of nodes, must be between 7 and 12</li>\n",
    "    <li>seed: Seed for random number of nodes, if provided, the number of nodes will be randomly given by the seed, even if given by parameter <code>n</code></li>\n",
    "</ul>\n",
    "A <code>BroomstickGraph</code> does not have its own methods, but inherits all the methods described in the section for <code>Graph</code>. Particularly for a Broomstick Graph, it consists of a long chain of nodes with a cluster of nodes at the end. "
   ]
  },
  {
   "cell_type": "code",
   "execution_count": null,
   "metadata": {},
   "outputs": [],
   "source": [
    "broomstick = BroomstickGraph() # Will have a random number of nodes each time \n",
    "broomstick.draw()\n",
    "broomstick_seed = BroomstickGraph(seed=69420)\n",
    "broomstick_seed.draw()"
   ]
  },
  {
   "cell_type": "markdown",
   "metadata": {},
   "source": [
    "## PetersenGraph\n",
    "A <code>PetersenGraph</code> does not have its own methods, but inherits all the methods described in the section for <code>Graph</code>. Special for graph is that it does not take any parameters and will thus be the same everytime you run it."
   ]
  },
  {
   "cell_type": "code",
   "execution_count": null,
   "metadata": {},
   "outputs": [],
   "source": [
    "petersen = PetersenGraph()\n",
    "petersen.draw()"
   ]
  },
  {
   "cell_type": "markdown",
   "metadata": {},
   "source": [
    "## ConstructedGraph\n",
    "##### Parameters\n",
    "<ul>\n",
    "    <li>expanded: A <code>bool</code> determining whether the graph should be a larger, expanded version or not. Default is True.</li>\n",
    "</ul>\n",
    "<code>ConstructedGraph</code> is a class that creates a complete network consisting of a core network, 4 transport networks, and access networks along the transport networks. The objects come in two different versions, expanded or not."
   ]
  },
  {
   "cell_type": "code",
   "execution_count": null,
   "metadata": {},
   "outputs": [],
   "source": [
    "const_normal = ConstructedGraph(expanded=False)\n",
    "const_expanded = ConstructedGraph()\n",
    "const_normal.draw()\n",
    "const_expanded.draw()"
   ]
  },
  {
   "cell_type": "markdown",
   "metadata": {},
   "source": [
    "## WattsStrogatz\n",
    "##### Parameters\n",
    "<ul>\n",
    "    <li>n: Number of nodes in the graph.</li>\n",
    "    <li>k: Number of neighboring nodes that each node should have edges to. It becomes automatically k-1 if k is an odd number.</li>\n",
    "    <li>p: The probability that an edge (u, v) should be replaced with another edge (u, w).</li>\n",
    "</ul>\n",
    "A Watts-Strogatz graph is created by first creating a ring structure with n nodes. Then, each node will have an edge to its k nearest neighbors (k-1 nearest if k is an odd number). Finally, each edge (u, v), which goes from node u to node v, will be replaced with another edge (u, w) with probability p. Here, w is a node chosen with uniform probability from all existing nodes except node u. When working with such graphs generated using algorithms that use randomness, it's wise to note the seed so that you can recreate the same graph at a later time."
   ]
  },
  {
   "cell_type": "code",
   "execution_count": null,
   "metadata": {
    "scrolled": false
   },
   "outputs": [],
   "source": [
    "ws1 = WattsStrogatz(n=50, k=4, p=0.1, seed=69)\n",
    "print(\"Seed for ws1\", ws1.seed)\n",
    "ws2 = WattsStrogatz(n=50, k=4, p=0.1)\n",
    "ws3 = WattsStrogatz(n=50, k=4, p=0.1, seed=ws1.seed)  # Setter seed til samme som  ws1 slik at de blir like\n",
    "ws1.draw()\n",
    "ws2.draw()\n",
    "ws3.draw()"
   ]
  },
  {
   "cell_type": "markdown",
   "metadata": {},
   "source": [
    "## BarabasiAlbert\n",
    "##### Parameters\n",
    "<ul>\n",
    "    <li>n: Number of nodes in the graph.</li>\n",
    "    <li>m: Number of nodes each new node should connect to.</li>\n",
    "</ul>\n",
    "A Barabasi-Albert graph is created by adding one node at a time to the graph until there are a total of n nodes. Each new node added connects to m other randomly chosen nodes. The probability $\\p_i$ for the new node to form an edge with node $i$ is given by the formula:\n",
    "$$p_i = \\frac{k_i}{\\sum_{j}^n k_j}$$"
   ]
  },
  {
   "cell_type": "code",
   "execution_count": null,
   "metadata": {
    "scrolled": false
   },
   "outputs": [],
   "source": [
    "ba1 = BarabasiAlbert(n=50, m=1)\n",
    "ba2 = BarabasiAlbert(n=50, m=1, seed=ba1.seed)\n",
    "ba3 = BarabasiAlbert(n=50, m=3)\n",
    "ba1.draw()\n",
    "ba2.draw()\n",
    "ba3.draw()"
   ]
  },
  {
   "cell_type": "markdown",
   "metadata": {},
   "source": [
    "## RealNetworkGraph\n",
    "##### Parameters\n",
    "<ul>\n",
    "    <li>url: A string containing the URL to a graph in the Topology Zoo.</li>\n",
    "</ul>\n",
    "This class uses a URL to download a graphml document and represent it as a graph. To find the URL, first visit <a href=http://www.topology-zoo.org/dataset.html>http://www.topology-zoo.org/dataset.html</a>. Then, find a network you want to download and click on GraphML under the downloads column. Copy the URL of the page you are now on. Note: the class has not been tested for all graphs available on the site, so if it doesn't work, you may need to try another network."
   ]
  },
  {
   "cell_type": "code",
   "execution_count": null,
   "metadata": {},
   "outputs": [],
   "source": [
    "rn = RealNetworkGraph(\"http://www.topology-zoo.org/files/Garr200908.graphml\")"
   ]
  },
  {
   "cell_type": "markdown",
   "metadata": {},
   "source": [
    "### draw()\n",
    "##### Parameters\n",
    "<ul>\n",
    "    <li>edge_color: The color of the edges. It works exactly the same way as the <code>draw()</code> method for <code>Graph</code>. Default is <code>\"#b4b4b4\"</code>.</li>\n",
    "    <li>node_color: The color of the nodes. Valid inputs are the same as for edge_color. Default is <code>\"k\"</code>.</li>\n",
    "    <li>figsize: A tuple containing the height and width in inches of the figure in which the graph will be drawn. (Jupyter can draw approximately 15 x 15 so anything larger will zoom out the content of the figure instead of increasing its size). Default is (15, 14).</li>\n",
    "    <li>with_labels: A <code>bool</code> determining whether node names should be drawn or not. Default is True.</li>\n",
    "    <li>font_size: The font size. Default is 12.</li>\n",
    "    <li>node_size: The size of the nodes. Default is 20.</li>\n",
    "    <li>edge_width: The width of the edges. Default is 0.6.</li>\n",
    "</ul>\n",
    "The reason this <code>draw()</code> method has many more parameters than the general one for <code>Graph</code> is that networks from Topology Zoo can be very different, so it's desirable to adjust the drawing accordingly."
   ]
  },
  {
   "cell_type": "code",
   "execution_count": null,
   "metadata": {},
   "outputs": [],
   "source": [
    "rn.draw(font_size=15, node_size=25, node_color=\"blue\")"
   ]
  },
  {
   "cell_type": "markdown",
   "metadata": {},
   "source": [
    "## AutoCAR\n",
    "##### Parameters\n",
    "<ul>\n",
    "    <li>seed: Mandatory. Used to make the graphs different for each student.</li>\n",
    "    <li>car_count: Number of nodes in the graph representing cars.</li>\n",
    "    <li>satellite_count: Number of nodes in the graph representing satellites.</li>\n",
    "    <li>datacenter_count: Number of nodes in the graph representing data centers.</li>\n",
    "</ul>\n",
    "\n",
    "<code>AutoCAR()</code> is associated with exercise 1 and 2. Here we simulate the possibilities available with \"connected cars,\" including both vehicle-to-vehicle (V2V) and vehicle-to-infrastructure (V2I) communication. More details will be provided in the exercise. However, here is a short look at it. To make the graph, it is required to provide a seed.\n",
    "\n",
    "The normal methods introduced above for graphs is also available here. "
   ]
  },
  {
   "cell_type": "code",
   "execution_count": null,
   "metadata": {},
   "outputs": [],
   "source": [
    "from graph_utils.autocar import AutoCAR\n",
    "autocar = AutoCAR(seed=69420)\n",
    "autocar.draw() "
   ]
  },
  {
   "cell_type": "markdown",
   "metadata": {},
   "source": [
    "# Example Exercises from Last Year's Assignment\n",
    "Here follows a brief introduction section (Part 1) with exercises taken from last year's assignment. After each exercise, a proposed solution follows, remember that several answers may be correct."
   ]
  },
  {
   "cell_type": "markdown",
   "metadata": {},
   "source": [
    "# Part 1: Introduction\n",
    "In this section, we will get acquainted with how to plot graphs.\n",
    "## Exercise 1.1\n",
    "Create a graph by first creating an object of the class <code>Graph</code>. Then add 5-10 nodes using the method <code>add_node()</code> or <code>add_nodes_from()</code>. Next, add edges between the nodes you desire using <code>add_edge()</code> or <code>add_edges_from()</code>. Finally, use the method <code>draw()</code> to plot the graph."
   ]
  },
  {
   "cell_type": "code",
   "execution_count": null,
   "metadata": {},
   "outputs": [],
   "source": [
    "# Write code here\n"
   ]
  },
  {
   "cell_type": "markdown",
   "metadata": {},
   "source": [
    "## Exercise 1.2\n",
    "You can find the number of nodes using the method <code>number_of_nodes()</code>. Try it out on the graph object you created in the previous exercise and print the result."
   ]
  },
  {
   "cell_type": "code",
   "execution_count": null,
   "metadata": {},
   "outputs": [],
   "source": [
    "# Write code here\n"
   ]
  },
  {
   "cell_type": "markdown",
   "metadata": {},
   "source": [
    "## Exercise 1.3\n",
    "Similarly to nodes, you can find the number of edges in the graph using the method <code>number_of_edges()</code>. Use it on the graph from Exercise 1.1 to find the number of edges in the graph and print the result."
   ]
  },
  {
   "cell_type": "code",
   "execution_count": null,
   "metadata": {},
   "outputs": [],
   "source": [
    "# Write code here\n"
   ]
  },
  {
   "cell_type": "markdown",
   "metadata": {},
   "source": [
    "## Exercise 1.4\n",
    "Create a <code>GridGraph</code> object with 5 x 5 nodes. Draw the shortest path between node (4, 4) and (1, 2) using the method <code>mark_shortest_path()</code>."
   ]
  },
  {
   "cell_type": "code",
   "execution_count": null,
   "metadata": {},
   "outputs": [],
   "source": [
    "# Plot graph here \n"
   ]
  },
  {
   "cell_type": "markdown",
   "metadata": {},
   "source": [
    "## Exercise 1.5\n",
    "We will continue using the graph from the previous exercise. Remove nodes (1, 3) and (2, 2) using the method <code>remove_node()</code>. Now, find the shortest path between node (4, 4) and (1, 2) and draw the result. (Note that the nodes may not necessarily be drawn in the same positions as in the previous exercise, but it will draw an isomorphic graph)"
   ]
  },
  {
   "cell_type": "code",
   "execution_count": null,
   "metadata": {},
   "outputs": [],
   "source": [
    "# Write code here\n"
   ]
  },
  {
   "cell_type": "markdown",
   "metadata": {},
   "source": [
    "## Exercise 1.6\n",
    "How many nodes need to be deleted at least for the shortest path between node (4, 4) and (1, 2) to become longer than it was in Exercise 1.5, but still have a path available?"
   ]
  },
  {
   "cell_type": "code",
   "execution_count": null,
   "metadata": {},
   "outputs": [],
   "source": [
    "# Coding space for testing if needed"
   ]
  },
  {
   "cell_type": "raw",
   "metadata": {},
   "source": [
    "Answere here\n"
   ]
  },
  {
   "cell_type": "markdown",
   "metadata": {},
   "source": [
    "How many nodes need to be deleted for there to be no path between node (4, 4) and (1, 2), based on the graph as it is in Exercise 1.5?"
   ]
  },
  {
   "cell_type": "code",
   "execution_count": null,
   "metadata": {},
   "outputs": [],
   "source": [
    "# Coding space for testing if needed "
   ]
  },
  {
   "cell_type": "raw",
   "metadata": {},
   "source": [
    "Answere here "
   ]
  },
  {
   "cell_type": "markdown",
   "metadata": {},
   "source": [
    "## Exercise 1.7\n",
    "Create a <code>WattsStrogatz</code> object with parameters n=100, k=4, and p=0.1. Then, draw the graph and find the shortest path between node 53 and 75."
   ]
  },
  {
   "cell_type": "code",
   "execution_count": null,
   "metadata": {},
   "outputs": [],
   "source": [
    "# Write code here\n"
   ]
  },
  {
   "cell_type": "code",
   "execution_count": null,
   "metadata": {},
   "outputs": [],
   "source": [
    "# Write code for shortest path here\n"
   ]
  },
  {
   "cell_type": "markdown",
   "metadata": {},
   "source": [
    "# Part 1: Introduction Solution\n",
    "In this section, we will get acquainted with how to plot graphs.\n",
    "## Exercise 1.1\n",
    "Create a graph by first creating an object of the class <code>Graph</code>. Then add 5-10 nodes using the method <code>add_node()</code> or <code>add_nodes_from()</code>. Next, add edges between the nodes you desire using <code>add_edge()</code> or <code>add_edges_from()</code>. Finally, use the method <code>draw()</code> to plot the graph."
   ]
  },
  {
   "cell_type": "code",
   "execution_count": null,
   "metadata": {},
   "outputs": [],
   "source": [
    "# Write code here \n",
    "\n",
    "# Solution\n",
    "eksempelgraf = Graph()\n",
    "eksempelgraf.add_node(1)\n",
    "eksempelgraf.add_nodes_from([2, 3, 4, 5, 6])\n",
    "eksempelgraf.add_edge(1, 5)\n",
    "eksempelgraf.add_edges_from([(1, 3), (1, 2), (5, 3), (3, 2), (1, 4), (1, 6)])\n",
    "eksempelgraf.draw()"
   ]
  },
  {
   "cell_type": "markdown",
   "metadata": {},
   "source": [
    "## Exercise 1.2\n",
    "You can find the number of nodes using the method <code>number_of_nodes()</code>. Try it out on the graph object you created in the previous exercise and print the result."
   ]
  },
  {
   "cell_type": "code",
   "execution_count": null,
   "metadata": {},
   "outputs": [],
   "source": [
    "# Write code here \n",
    "\n",
    "# Solution \n",
    "print(eksempelgraf.number_of_nodes())"
   ]
  },
  {
   "cell_type": "markdown",
   "metadata": {},
   "source": [
    "## Exercise 1.3\n",
    "Similarly to nodes, you can find the number of edges in the graph using the method <code>number_of_edges()</code>. Use it on the graph from Exercise 1.1 to find the number of edges in the graph and print the result."
   ]
  },
  {
   "cell_type": "code",
   "execution_count": null,
   "metadata": {},
   "outputs": [],
   "source": [
    "# Write code here \n",
    "\n",
    "# Solution \n",
    "print(eksempelgraf.number_of_edges())"
   ]
  },
  {
   "cell_type": "markdown",
   "metadata": {},
   "source": [
    "## Exercise 1.4\n",
    "Create a <code>GridGraph</code> object with 5 x 5 nodes. Draw the shortest path between node (4, 4) and (1, 2) using the method <code>mark_shortest_path()</code>."
   ]
  },
  {
   "cell_type": "code",
   "execution_count": null,
   "metadata": {},
   "outputs": [],
   "source": [
    "# Plot graph here \n",
    "\n",
    "# Solution \n",
    "grid = GridGraph(5, 5)\n",
    "grid.mark_shortest_path((4, 4), (1, 2))"
   ]
  },
  {
   "cell_type": "markdown",
   "metadata": {},
   "source": [
    "## Exercise 1.5\n",
    "We will continue using the graph from the previous exercise. Remove nodes (1, 3) and (2, 2) using the method <code>remove_node()</code>. Now, find the shortest path between node (4, 4) and (1, 2) and draw the result. (Note that the nodes may not necessarily be drawn in the same positions as in the previous exercise, but it will draw an isomorphic graph)"
   ]
  },
  {
   "cell_type": "code",
   "execution_count": null,
   "metadata": {},
   "outputs": [],
   "source": [
    "# Write code here \n",
    "\n",
    "# Solution \n",
    "grid.remove_node((1, 3))\n",
    "grid.remove_node((2, 2))\n",
    "# Alternatively: grid.remove_nodes_from([(1, 3), (2, 2)])\n",
    "grid.mark_shortest_path((4, 4), (1, 2))"
   ]
  },
  {
   "cell_type": "markdown",
   "metadata": {},
   "source": [
    "## Exercise 1.6\n",
    "How many nodes need to be deleted at least for the shortest path between node (4, 4) and (1, 2) to become longer than it was in Exercise 1.5, but still have a path available?"
   ]
  },
  {
   "cell_type": "code",
   "execution_count": null,
   "metadata": {},
   "outputs": [],
   "source": [
    "# Coding space for testing if needed "
   ]
  },
  {
   "cell_type": "raw",
   "metadata": {},
   "source": [
    "Solution:\n",
    "2"
   ]
  },
  {
   "cell_type": "markdown",
   "metadata": {},
   "source": [
    "How many nodes need to be deleted for there to be no path between node (4, 4) and (1, 2), based on the graph as it is in Exercise 1.5?"
   ]
  },
  {
   "cell_type": "code",
   "execution_count": null,
   "metadata": {},
   "outputs": [],
   "source": [
    "# Coding space for testing if needed "
   ]
  },
  {
   "cell_type": "raw",
   "metadata": {},
   "source": [
    "Solution:\n",
    "2"
   ]
  },
  {
   "cell_type": "markdown",
   "metadata": {},
   "source": [
    "## Exercise 1.7\n",
    "Create a <code>WattsStrogatz</code> object with parameters n=100, k=4, and p=0.1. Then, draw the graph and find the shortest path between node 53 and 75."
   ]
  },
  {
   "cell_type": "code",
   "execution_count": null,
   "metadata": {},
   "outputs": [],
   "source": [
    "# Write code here \n",
    "ws = WattsStrogatz(100, 4, 0.1)\n",
    "ws.draw()"
   ]
  },
  {
   "cell_type": "code",
   "execution_count": null,
   "metadata": {},
   "outputs": [],
   "source": [
    "# Write code for shortest path here \n",
    "ws.mark_shortest_path(53, 75)"
   ]
  }
 ],
 "metadata": {
  "kernelspec": {
   "display_name": "Python 3",
   "language": "python",
   "name": "python3"
  },
  "language_info": {
   "codemirror_mode": {
    "name": "ipython",
    "version": 3
   },
   "file_extension": ".py",
   "mimetype": "text/x-python",
   "name": "python",
   "nbconvert_exporter": "python",
   "pygments_lexer": "ipython3",
   "version": "3.12.10"
  }
 },
 "nbformat": 4,
 "nbformat_minor": 4
}
